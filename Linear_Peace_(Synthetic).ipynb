{
  "nbformat": 4,
  "nbformat_minor": 0,
  "metadata": {
    "colab": {
      "provenance": [],
      "authorship_tag": "ABX9TyNj8VwrtpX445KgsFplx4BB",
      "include_colab_link": true
    },
    "kernelspec": {
      "name": "python3",
      "display_name": "Python 3"
    },
    "language_info": {
      "name": "python"
    }
  },
  "cells": [
    {
      "cell_type": "markdown",
      "metadata": {
        "id": "view-in-github",
        "colab_type": "text"
      },
      "source": [
        "<a href=\"https://colab.research.google.com/github/joseffaghihi/PACE-PEACE-dicrete-and-Continious/blob/main/Linear_Peace_(Synthetic).ipynb\" target=\"_parent\"><img src=\"https://colab.research.google.com/assets/colab-badge.svg\" alt=\"Open In Colab\"/></a>"
      ]
    },
    {
      "cell_type": "code",
      "execution_count": 84,
      "metadata": {
        "id": "1327uZLm_tyi",
        "colab": {
          "base_uri": "https://localhost:8080/"
        },
        "outputId": "df12da36-4c14-46b4-8d81-d8f456375627"
      },
      "outputs": [
        {
          "output_type": "stream",
          "name": "stdout",
          "text": [
            "Looking in indexes: https://pypi.org/simple, https://us-python.pkg.dev/colab-wheels/public/simple/\n",
            "Requirement already satisfied: vegas in /usr/local/lib/python3.7/dist-packages (5.1.1)\n",
            "Requirement already satisfied: numpy>=1.7 in /usr/local/lib/python3.7/dist-packages (from vegas) (1.21.6)\n",
            "Requirement already satisfied: gvar>=8.0 in /usr/local/lib/python3.7/dist-packages (from vegas) (11.10.1)\n",
            "Requirement already satisfied: scipy in /usr/local/lib/python3.7/dist-packages (from gvar>=8.0->vegas) (1.7.3)\n"
          ]
        }
      ],
      "source": [
        "pip install vegas"
      ]
    },
    {
      "cell_type": "code",
      "source": [
        "import numpy as np\n",
        "import pandas as pd\n",
        "from sklearn.linear_model import LinearRegression\n",
        "from sklearn.model_selection import train_test_split\n",
        "from sklearn import metrics\n",
        "import sympy\n",
        "from sklearn.metrics import mean_squared_error\n",
        "import vegas"
      ],
      "metadata": {
        "id": "n41ptvf1R64t"
      },
      "execution_count": 85,
      "outputs": []
    },
    {
      "cell_type": "code",
      "source": [
        "n = 1000000                                                      # The number of samples\n",
        "mean_real_0, mean_real_1, mean_real_2 = 0, 0, 0                  # Specifying the means of data\n",
        "mu_real_0, mu_real_1, mu_real_2 = 1.5, 1, 0.8                    # Specifying the variances of data\n",
        "coeff_real = [0,-1,1.05,2]                                       # Specifying the coefficients of the polynomial of degeee 1 whose variables are x0, x1 and x2. The order of the terms in this polynomial is as follows: 1, x0, x1, x2.\n",
        "np.random.seed(0)\n",
        "x0 = np.random.normal(mean_real_0, mu_real_0, n).flatten()       # Generating x0 from a normal distribution with the above mean and variance. \n",
        "x1 = np.random.normal(mean_real_1, mu_real_1, n).flatten()       # Generating x1 from a normal distribution with the above mean and variance.\n",
        "x2 = np.random.normal(mean_real_2, mu_real_2, n).flatten()       # Generating x2 from a normal distribution with the above mean and variance.\n",
        "\n",
        "# Generating y from the polynomial with the above coefficients. Indeed, a random error is applied on the coefficients. \n",
        "y = (0.01*np.random.rand(1)[0]+coeff_real[0]) + (0.01*np.random.rand(1)[0]+coeff_real[1])*x0 + (0.01*np.random.rand(1)[0]+coeff_real[2])*x1 + (0.01*np.random.rand(1)[0]+coeff_real[3])*x2\n",
        "\n",
        "# Defining a dataframe from the above data.\n",
        "data = np.zeros((n,4))\n",
        "data[:,0], data[:,1], data[:,2], data[:,3] = [x0,x1,x2, y]\n",
        "df = pd.DataFrame(data)\n",
        "cols = [\"x0\", \"x1\", \"x2\", \"y\"]\n",
        "df.columns = cols\n",
        "df.head()"
      ],
      "metadata": {
        "colab": {
          "base_uri": "https://localhost:8080/",
          "height": 204
        },
        "id": "aJXMNpp3ACR8",
        "outputId": "fd0beadc-7fcc-4e06-e141-435c2a67115f"
      },
      "execution_count": 86,
      "outputs": [
        {
          "output_type": "execute_result",
          "data": {
            "text/plain": [
              "         x0        x1        x2         y\n",
              "0  2.646079  0.514247 -0.186862 -2.443247\n",
              "1  0.600236  1.112865  0.772854  2.138009\n",
              "2  1.468107  0.675024  0.355203 -0.020542\n",
              "3  3.361340 -0.560557  1.336306 -1.232948\n",
              "4  2.801337 -0.834898  0.557275 -2.529083"
            ],
            "text/html": [
              "\n",
              "  <div id=\"df-544c7335-1fc6-46bb-9c27-5d010d3be06a\">\n",
              "    <div class=\"colab-df-container\">\n",
              "      <div>\n",
              "<style scoped>\n",
              "    .dataframe tbody tr th:only-of-type {\n",
              "        vertical-align: middle;\n",
              "    }\n",
              "\n",
              "    .dataframe tbody tr th {\n",
              "        vertical-align: top;\n",
              "    }\n",
              "\n",
              "    .dataframe thead th {\n",
              "        text-align: right;\n",
              "    }\n",
              "</style>\n",
              "<table border=\"1\" class=\"dataframe\">\n",
              "  <thead>\n",
              "    <tr style=\"text-align: right;\">\n",
              "      <th></th>\n",
              "      <th>x0</th>\n",
              "      <th>x1</th>\n",
              "      <th>x2</th>\n",
              "      <th>y</th>\n",
              "    </tr>\n",
              "  </thead>\n",
              "  <tbody>\n",
              "    <tr>\n",
              "      <th>0</th>\n",
              "      <td>2.646079</td>\n",
              "      <td>0.514247</td>\n",
              "      <td>-0.186862</td>\n",
              "      <td>-2.443247</td>\n",
              "    </tr>\n",
              "    <tr>\n",
              "      <th>1</th>\n",
              "      <td>0.600236</td>\n",
              "      <td>1.112865</td>\n",
              "      <td>0.772854</td>\n",
              "      <td>2.138009</td>\n",
              "    </tr>\n",
              "    <tr>\n",
              "      <th>2</th>\n",
              "      <td>1.468107</td>\n",
              "      <td>0.675024</td>\n",
              "      <td>0.355203</td>\n",
              "      <td>-0.020542</td>\n",
              "    </tr>\n",
              "    <tr>\n",
              "      <th>3</th>\n",
              "      <td>3.361340</td>\n",
              "      <td>-0.560557</td>\n",
              "      <td>1.336306</td>\n",
              "      <td>-1.232948</td>\n",
              "    </tr>\n",
              "    <tr>\n",
              "      <th>4</th>\n",
              "      <td>2.801337</td>\n",
              "      <td>-0.834898</td>\n",
              "      <td>0.557275</td>\n",
              "      <td>-2.529083</td>\n",
              "    </tr>\n",
              "  </tbody>\n",
              "</table>\n",
              "</div>\n",
              "      <button class=\"colab-df-convert\" onclick=\"convertToInteractive('df-544c7335-1fc6-46bb-9c27-5d010d3be06a')\"\n",
              "              title=\"Convert this dataframe to an interactive table.\"\n",
              "              style=\"display:none;\">\n",
              "        \n",
              "  <svg xmlns=\"http://www.w3.org/2000/svg\" height=\"24px\"viewBox=\"0 0 24 24\"\n",
              "       width=\"24px\">\n",
              "    <path d=\"M0 0h24v24H0V0z\" fill=\"none\"/>\n",
              "    <path d=\"M18.56 5.44l.94 2.06.94-2.06 2.06-.94-2.06-.94-.94-2.06-.94 2.06-2.06.94zm-11 1L8.5 8.5l.94-2.06 2.06-.94-2.06-.94L8.5 2.5l-.94 2.06-2.06.94zm10 10l.94 2.06.94-2.06 2.06-.94-2.06-.94-.94-2.06-.94 2.06-2.06.94z\"/><path d=\"M17.41 7.96l-1.37-1.37c-.4-.4-.92-.59-1.43-.59-.52 0-1.04.2-1.43.59L10.3 9.45l-7.72 7.72c-.78.78-.78 2.05 0 2.83L4 21.41c.39.39.9.59 1.41.59.51 0 1.02-.2 1.41-.59l7.78-7.78 2.81-2.81c.8-.78.8-2.07 0-2.86zM5.41 20L4 18.59l7.72-7.72 1.47 1.35L5.41 20z\"/>\n",
              "  </svg>\n",
              "      </button>\n",
              "      \n",
              "  <style>\n",
              "    .colab-df-container {\n",
              "      display:flex;\n",
              "      flex-wrap:wrap;\n",
              "      gap: 12px;\n",
              "    }\n",
              "\n",
              "    .colab-df-convert {\n",
              "      background-color: #E8F0FE;\n",
              "      border: none;\n",
              "      border-radius: 50%;\n",
              "      cursor: pointer;\n",
              "      display: none;\n",
              "      fill: #1967D2;\n",
              "      height: 32px;\n",
              "      padding: 0 0 0 0;\n",
              "      width: 32px;\n",
              "    }\n",
              "\n",
              "    .colab-df-convert:hover {\n",
              "      background-color: #E2EBFA;\n",
              "      box-shadow: 0px 1px 2px rgba(60, 64, 67, 0.3), 0px 1px 3px 1px rgba(60, 64, 67, 0.15);\n",
              "      fill: #174EA6;\n",
              "    }\n",
              "\n",
              "    [theme=dark] .colab-df-convert {\n",
              "      background-color: #3B4455;\n",
              "      fill: #D2E3FC;\n",
              "    }\n",
              "\n",
              "    [theme=dark] .colab-df-convert:hover {\n",
              "      background-color: #434B5C;\n",
              "      box-shadow: 0px 1px 3px 1px rgba(0, 0, 0, 0.15);\n",
              "      filter: drop-shadow(0px 1px 2px rgba(0, 0, 0, 0.3));\n",
              "      fill: #FFFFFF;\n",
              "    }\n",
              "  </style>\n",
              "\n",
              "      <script>\n",
              "        const buttonEl =\n",
              "          document.querySelector('#df-544c7335-1fc6-46bb-9c27-5d010d3be06a button.colab-df-convert');\n",
              "        buttonEl.style.display =\n",
              "          google.colab.kernel.accessAllowed ? 'block' : 'none';\n",
              "\n",
              "        async function convertToInteractive(key) {\n",
              "          const element = document.querySelector('#df-544c7335-1fc6-46bb-9c27-5d010d3be06a');\n",
              "          const dataTable =\n",
              "            await google.colab.kernel.invokeFunction('convertToInteractive',\n",
              "                                                     [key], {});\n",
              "          if (!dataTable) return;\n",
              "\n",
              "          const docLinkHtml = 'Like what you see? Visit the ' +\n",
              "            '<a target=\"_blank\" href=https://colab.research.google.com/notebooks/data_table.ipynb>data table notebook</a>'\n",
              "            + ' to learn more about interactive tables.';\n",
              "          element.innerHTML = '';\n",
              "          dataTable['output_type'] = 'display_data';\n",
              "          await google.colab.output.renderOutput(dataTable, element);\n",
              "          const docLink = document.createElement('div');\n",
              "          docLink.innerHTML = docLinkHtml;\n",
              "          element.appendChild(docLink);\n",
              "        }\n",
              "      </script>\n",
              "    </div>\n",
              "  </div>\n",
              "  "
            ]
          },
          "metadata": {},
          "execution_count": 86
        }
      ]
    },
    {
      "cell_type": "code",
      "source": [
        "# Renaming the columns x0, x1, x2 to 0,1 and 2, respectively.\n",
        "\n",
        "df = df.rename(columns={'x0':0, 'x1':1, 'x2':2})\n",
        "df.head()"
      ],
      "metadata": {
        "colab": {
          "base_uri": "https://localhost:8080/",
          "height": 204
        },
        "id": "iYDR-TFuNYEq",
        "outputId": "6493af10-bcd1-4bcc-9ac1-c7ed4b445bed"
      },
      "execution_count": 87,
      "outputs": [
        {
          "output_type": "execute_result",
          "data": {
            "text/plain": [
              "          0         1         2         y\n",
              "0  2.646079  0.514247 -0.186862 -2.443247\n",
              "1  0.600236  1.112865  0.772854  2.138009\n",
              "2  1.468107  0.675024  0.355203 -0.020542\n",
              "3  3.361340 -0.560557  1.336306 -1.232948\n",
              "4  2.801337 -0.834898  0.557275 -2.529083"
            ],
            "text/html": [
              "\n",
              "  <div id=\"df-dad6488c-ef67-43bc-9dae-db3955e4aabe\">\n",
              "    <div class=\"colab-df-container\">\n",
              "      <div>\n",
              "<style scoped>\n",
              "    .dataframe tbody tr th:only-of-type {\n",
              "        vertical-align: middle;\n",
              "    }\n",
              "\n",
              "    .dataframe tbody tr th {\n",
              "        vertical-align: top;\n",
              "    }\n",
              "\n",
              "    .dataframe thead th {\n",
              "        text-align: right;\n",
              "    }\n",
              "</style>\n",
              "<table border=\"1\" class=\"dataframe\">\n",
              "  <thead>\n",
              "    <tr style=\"text-align: right;\">\n",
              "      <th></th>\n",
              "      <th>0</th>\n",
              "      <th>1</th>\n",
              "      <th>2</th>\n",
              "      <th>y</th>\n",
              "    </tr>\n",
              "  </thead>\n",
              "  <tbody>\n",
              "    <tr>\n",
              "      <th>0</th>\n",
              "      <td>2.646079</td>\n",
              "      <td>0.514247</td>\n",
              "      <td>-0.186862</td>\n",
              "      <td>-2.443247</td>\n",
              "    </tr>\n",
              "    <tr>\n",
              "      <th>1</th>\n",
              "      <td>0.600236</td>\n",
              "      <td>1.112865</td>\n",
              "      <td>0.772854</td>\n",
              "      <td>2.138009</td>\n",
              "    </tr>\n",
              "    <tr>\n",
              "      <th>2</th>\n",
              "      <td>1.468107</td>\n",
              "      <td>0.675024</td>\n",
              "      <td>0.355203</td>\n",
              "      <td>-0.020542</td>\n",
              "    </tr>\n",
              "    <tr>\n",
              "      <th>3</th>\n",
              "      <td>3.361340</td>\n",
              "      <td>-0.560557</td>\n",
              "      <td>1.336306</td>\n",
              "      <td>-1.232948</td>\n",
              "    </tr>\n",
              "    <tr>\n",
              "      <th>4</th>\n",
              "      <td>2.801337</td>\n",
              "      <td>-0.834898</td>\n",
              "      <td>0.557275</td>\n",
              "      <td>-2.529083</td>\n",
              "    </tr>\n",
              "  </tbody>\n",
              "</table>\n",
              "</div>\n",
              "      <button class=\"colab-df-convert\" onclick=\"convertToInteractive('df-dad6488c-ef67-43bc-9dae-db3955e4aabe')\"\n",
              "              title=\"Convert this dataframe to an interactive table.\"\n",
              "              style=\"display:none;\">\n",
              "        \n",
              "  <svg xmlns=\"http://www.w3.org/2000/svg\" height=\"24px\"viewBox=\"0 0 24 24\"\n",
              "       width=\"24px\">\n",
              "    <path d=\"M0 0h24v24H0V0z\" fill=\"none\"/>\n",
              "    <path d=\"M18.56 5.44l.94 2.06.94-2.06 2.06-.94-2.06-.94-.94-2.06-.94 2.06-2.06.94zm-11 1L8.5 8.5l.94-2.06 2.06-.94-2.06-.94L8.5 2.5l-.94 2.06-2.06.94zm10 10l.94 2.06.94-2.06 2.06-.94-2.06-.94-.94-2.06-.94 2.06-2.06.94z\"/><path d=\"M17.41 7.96l-1.37-1.37c-.4-.4-.92-.59-1.43-.59-.52 0-1.04.2-1.43.59L10.3 9.45l-7.72 7.72c-.78.78-.78 2.05 0 2.83L4 21.41c.39.39.9.59 1.41.59.51 0 1.02-.2 1.41-.59l7.78-7.78 2.81-2.81c.8-.78.8-2.07 0-2.86zM5.41 20L4 18.59l7.72-7.72 1.47 1.35L5.41 20z\"/>\n",
              "  </svg>\n",
              "      </button>\n",
              "      \n",
              "  <style>\n",
              "    .colab-df-container {\n",
              "      display:flex;\n",
              "      flex-wrap:wrap;\n",
              "      gap: 12px;\n",
              "    }\n",
              "\n",
              "    .colab-df-convert {\n",
              "      background-color: #E8F0FE;\n",
              "      border: none;\n",
              "      border-radius: 50%;\n",
              "      cursor: pointer;\n",
              "      display: none;\n",
              "      fill: #1967D2;\n",
              "      height: 32px;\n",
              "      padding: 0 0 0 0;\n",
              "      width: 32px;\n",
              "    }\n",
              "\n",
              "    .colab-df-convert:hover {\n",
              "      background-color: #E2EBFA;\n",
              "      box-shadow: 0px 1px 2px rgba(60, 64, 67, 0.3), 0px 1px 3px 1px rgba(60, 64, 67, 0.15);\n",
              "      fill: #174EA6;\n",
              "    }\n",
              "\n",
              "    [theme=dark] .colab-df-convert {\n",
              "      background-color: #3B4455;\n",
              "      fill: #D2E3FC;\n",
              "    }\n",
              "\n",
              "    [theme=dark] .colab-df-convert:hover {\n",
              "      background-color: #434B5C;\n",
              "      box-shadow: 0px 1px 3px 1px rgba(0, 0, 0, 0.15);\n",
              "      filter: drop-shadow(0px 1px 2px rgba(0, 0, 0, 0.3));\n",
              "      fill: #FFFFFF;\n",
              "    }\n",
              "  </style>\n",
              "\n",
              "      <script>\n",
              "        const buttonEl =\n",
              "          document.querySelector('#df-dad6488c-ef67-43bc-9dae-db3955e4aabe button.colab-df-convert');\n",
              "        buttonEl.style.display =\n",
              "          google.colab.kernel.accessAllowed ? 'block' : 'none';\n",
              "\n",
              "        async function convertToInteractive(key) {\n",
              "          const element = document.querySelector('#df-dad6488c-ef67-43bc-9dae-db3955e4aabe');\n",
              "          const dataTable =\n",
              "            await google.colab.kernel.invokeFunction('convertToInteractive',\n",
              "                                                     [key], {});\n",
              "          if (!dataTable) return;\n",
              "\n",
              "          const docLinkHtml = 'Like what you see? Visit the ' +\n",
              "            '<a target=\"_blank\" href=https://colab.research.google.com/notebooks/data_table.ipynb>data table notebook</a>'\n",
              "            + ' to learn more about interactive tables.';\n",
              "          element.innerHTML = '';\n",
              "          dataTable['output_type'] = 'display_data';\n",
              "          await google.colab.output.renderOutput(dataTable, element);\n",
              "          const docLink = document.createElement('div');\n",
              "          docLink.innerHTML = docLinkHtml;\n",
              "          element.appendChild(docLink);\n",
              "        }\n",
              "      </script>\n",
              "    </div>\n",
              "  </div>\n",
              "  "
            ]
          },
          "metadata": {},
          "execution_count": 87
        }
      ]
    },
    {
      "cell_type": "code",
      "source": [
        "# Calculating the means and the standard deviations of each column of the data.\n",
        "\n",
        "df_ar = df.to_numpy()\n",
        "mean = np.mean(df_ar.transpose()[0]), np.mean(df_ar.transpose()[1]) , np.mean(df_ar.transpose()[2])\n",
        "sd = np.sqrt(float(np.cov(df_ar.transpose()[0]))), np.sqrt(float(np.cov(df_ar.transpose()[1]))), np.sqrt(float(np.cov(df_ar.transpose()[2])))\n",
        "\n",
        "\n",
        "\n",
        "# Defining the density functions of each column of the data. Indeed, density(i, ) is the density function associated to the column i.\n",
        "\n",
        "def density(i,x):\n",
        "  prob_density = (1/(np.sqrt(np.pi*2)*sd[i])) * np.exp(-0.5*((x-mean[i])/sd[i])**2)\n",
        "  return prob_density"
      ],
      "metadata": {
        "id": "aHs_7DpyKa8l"
      },
      "execution_count": 88,
      "outputs": []
    },
    {
      "cell_type": "code",
      "source": [
        "# Training a polynomial regression for data.\n",
        "\n",
        "X = np.array(df[[0,1,2]]).reshape(-1, 3)\n",
        "Y = np.array(df['y']).reshape(-1, 1)\n",
        "X_train, X_test, Y_train, Y_test = train_test_split(X, Y, test_size = 0.25)\n",
        "lin = LinearRegression()\n",
        "lin.fit(X_train, Y_train)\n",
        "coeff = np.zeros(4)\n",
        "coeff[0] = lin.intercept_[0]\n",
        "coeff[1], coeff[2], coeff[3] = lin.coef_[0][0], lin.coef_[0][1], lin.coef_[0][2]"
      ],
      "metadata": {
        "id": "YtJnVc1LGN14"
      },
      "execution_count": 89,
      "outputs": []
    },
    {
      "cell_type": "code",
      "source": [
        "# Evaluating the model using \"r2_score\" and \"mean_squared_error\"\n",
        "\n",
        "expected_Y  = Y_test\n",
        "predicted_linear_Y = lin.predict(X_test)\n",
        "print(metrics.r2_score(expected_Y, predicted_linear_Y))\n",
        "print(mean_squared_error(expected_Y, predicted_linear_Y))"
      ],
      "metadata": {
        "colab": {
          "base_uri": "https://localhost:8080/"
        },
        "id": "-vUlsVehDpPZ",
        "outputId": "e3681a2f-4abe-4f97-925f-fb5bccd38bf7"
      },
      "execution_count": 90,
      "outputs": [
        {
          "output_type": "stream",
          "name": "stdout",
          "text": [
            "1.0\n",
            "2.1367874217626612e-30\n"
          ]
        }
      ]
    },
    {
      "cell_type": "code",
      "source": [
        "from sympy.stats import E, Normal"
      ],
      "metadata": {
        "id": "KvqaxLHsA4ml"
      },
      "execution_count": 91,
      "outputs": []
    },
    {
      "cell_type": "code",
      "source": [
        "# Calculating the PEACE's of x0, x1 and x2 on y.\n",
        "\n",
        "X0, X1, X2 = Normal('X0',mean[0], sd[0]**2), Normal('X1',mean[1], sd[1]**2), Normal('X2',mean[2], sd[2]**2)\n",
        "\n",
        "def integrand_0(x0,x1,x2):\n",
        "  return sympy.stats.density(X0)(x0)\n",
        "def integrand_1(x0,x1,x2):\n",
        "  return sympy.stats.density(X1)(x1)\n",
        "def integrand_2(x0,x1,x2):\n",
        "  return sympy.stats.density(X2)(x2)\n",
        "print(\"The PEACE's of x0, x1 and x2 on y, respectively:\")\n",
        "print(E(4*abs(coeff[1])*integrand_0(X0,X1,X2)).evalf(), E(4*abs(coeff[2])*integrand_1(X0,X1,X2)).evalf(), E(4*abs(coeff[3])*integrand_2(X0,X1,X2)).evalf(),'\\n', sep='\\n')\n",
        "\n",
        "# Calculating the positive PEACE's of x0, x1 and x2 on y.\n",
        "\n",
        "print(\"The positive PEACE's of x0, x1 and x2 on y, respectively:\")\n",
        "print(max(coeff[1],0)*E(4*integrand_0(X0,X1,X2)).evalf(), max(coeff[2],0)*E(4*integrand_1(X0,X1,X2)).evalf(), max(coeff[3],0)*E(4*integrand_2(X0,X1,X2)).evalf(), '\\n', sep='\\n')\n",
        "\n",
        "# Calculating the negative PEACE's of x0, x1 and x2 on y.\n",
        "\n",
        "print(\"The negative PEACE's of x0, x1 and x2 on y, respectively:\")\n",
        "print(max(-coeff[1],0)*E(4*integrand_0(X0,X1,X2)).evalf(), max(-coeff[2],0)*E(4*integrand_1(X0,X1,X2)).evalf(), max(-coeff[3],0)*E(4*integrand_2(X0,X1,X2)).evalf(),'\\n', sep='\\n')"
      ],
      "metadata": {
        "colab": {
          "base_uri": "https://localhost:8080/"
        },
        "id": "NkIcuG6DSTno",
        "outputId": "7e05dc1c-f7a5-4292-f06b-6f56ac7f7d83"
      },
      "execution_count": 92,
      "outputs": [
        {
          "output_type": "stream",
          "name": "stdout",
          "text": [
            "The PEACE's of x0, x1 and x2 on y, respectively:\n",
            "0.496770449484952\n",
            "1.19318202842525\n",
            "3.53270260539144\n",
            "\n",
            "\n",
            "The positive PEACE's of x0, x1 and x2 on y, respectively:\n",
            "0\n",
            "1.19318202842525\n",
            "3.53270260539144\n",
            "\n",
            "\n",
            "The negative PEACE's of x0, x1 and x2 on y, respectively:\n",
            "0.496770449484952\n",
            "0\n",
            "0\n",
            "\n",
            "\n"
          ]
        }
      ]
    },
    {
      "cell_type": "code",
      "source": [
        "# Calculating the SPACE's of x0, x1 and x2 on y, respectively.\n",
        "\n",
        "import scipy.optimize\n",
        "from scipy.optimize import differential_evolution\n",
        "from scipy.optimize import NonlinearConstraint\n",
        "\n",
        "inf = 100\n",
        "bnds = scipy.optimize.Bounds([-inf, -inf],[inf, inf])\n",
        "\n",
        "def func_0_real(a):\n",
        "  return -abs((a[0]-a[1]))*density(0,a[0])*density(0,a[1])\n",
        "def func_1_real(a):\n",
        "  return -abs((a[0]-a[1]))*density(1,a[0])*density(1,a[1])\n",
        "def func_2_real(a):\n",
        "  return -abs((a[0]-a[1]))*density(2,a[0])*density(2,a[1])\n",
        "\n",
        "max_0 = -differential_evolution(func_0_real, bnds, seed=1).fun\n",
        "max_1 = -differential_evolution(func_1_real, bnds, seed=1).fun\n",
        "max_2 = -differential_evolution(func_2_real, bnds, seed=1).fun\n",
        "\n",
        "def integrand_max_0(X): \n",
        "  return density(1,X[0])*density(2,X[1])\n",
        "\n",
        "def integrand_max_1(X):\n",
        "  return density(0,X[0])*density(2,X[1])\n",
        "\n",
        "def integrand_max_2(X):\n",
        "  return density(0,X[0])*density(1,X[1])\n",
        "\n",
        "domain_max = vegas.Integrator([[-inf, inf], [-inf, inf]])\n",
        "integral_max_0, integral_max_1, integral_max_2 = domain_max(integrand_max_0, nitn=50, neval=10000), domain_max(integrand_max_1, nitn=50, neval=10000), domain_max(integrand_max_2, nitn=50, neval=10000)\n",
        "print(\"The SPACE's of x0, x1 and x2 on y, respectively:\")\n",
        "print(4*abs(coeff[1])*max_0*integral_max_0, 4*abs(coeff[2])*max_1*integral_max_1, 4*abs(coeff[3])*max_2*integral_max_2,'\\n',sep='\\n')\n",
        "\n",
        "# Calculating the positive SPACE's of x0, x1 and x2 on y, respectively.\n",
        "\n",
        "print(\"The positive SPACE's of x0, x1 and x2 on y, respectively:\")\n",
        "print(4*max(coeff[1],0)*max_0*integral_max_0, 4*max(coeff[2],0)*max_1*integral_max_1, 4*max(coeff[3],0)*max_2*integral_max_2,'\\n',sep='\\n')\n",
        "\n",
        "# Calculating the negative SPACE's of x0, x1 and x2 on y, respectively.\n",
        "\n",
        "print(\"The negative SPACE's of x0, x1 and x2 on y, respectively:\")\n",
        "print(4*max(-coeff[1],0)*max_0*integral_max_0, 4*max(-coeff[2],0)*max_1*integral_max_1, 4*max(-coeff[3],0)*integral_max_2,sep='\\n')"
      ],
      "metadata": {
        "colab": {
          "base_uri": "https://localhost:8080/"
        },
        "id": "65sHBTfh_HdE",
        "outputId": "1254818c-0243-442c-afe3-d74a591941ee"
      },
      "execution_count": 93,
      "outputs": [
        {
          "output_type": "stream",
          "name": "stdout",
          "text": [
            "The SPACE's of x0, x1 and x2 on y, respectively:\n",
            "0.360353(45)\n",
            "0.576613(67)\n",
            "1.36780(14)\n",
            "\n",
            "\n",
            "The positive SPACE's of x0, x1 and x2 on y, respectively:\n",
            "0(0)\n",
            "0.576613(67)\n",
            "1.36780(14)\n",
            "\n",
            "\n",
            "The negative SPACE's of x0, x1 and x2 on y, respectively:\n",
            "0.360353(45)\n",
            "0(0)\n",
            "0(0)\n"
          ]
        }
      ]
    }
  ]
}