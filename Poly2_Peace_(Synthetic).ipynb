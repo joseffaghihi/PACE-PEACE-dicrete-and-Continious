{
  "cells": [
    {
      "cell_type": "markdown",
      "metadata": {
        "id": "view-in-github",
        "colab_type": "text"
      },
      "source": [
        "<a href=\"https://colab.research.google.com/github/joseffaghihi/PACE-PEACE-dicrete-and-Continious/blob/main/Poly2_Peace_(Synthetic).ipynb\" target=\"_parent\"><img src=\"https://colab.research.google.com/assets/colab-badge.svg\" alt=\"Open In Colab\"/></a>"
      ]
    },
    {
      "cell_type": "code",
      "execution_count": 1,
      "metadata": {
        "id": "E7Bc71fU7wXt"
      },
      "outputs": [],
      "source": [
        "import numpy as np\n",
        "import pandas as pd\n",
        "from sklearn.linear_model import LinearRegression\n",
        "from sklearn.preprocessing import PolynomialFeatures\n",
        "from sklearn.model_selection import train_test_split\n",
        "from sklearn import metrics\n",
        "from sklearn.metrics import mean_squared_error\n",
        "from scipy.integrate import tplquad, dblquad, quad\n",
        "import time\n",
        "from scipy.optimize import minimize"
      ]
    },
    {
      "cell_type": "code",
      "execution_count": 2,
      "metadata": {
        "colab": {
          "base_uri": "https://localhost:8080/",
          "height": 204
        },
        "id": "1JGpmdiA8PJi",
        "outputId": "dd538120-13b6-460c-9457-6cd761df44f2"
      },
      "outputs": [
        {
          "output_type": "execute_result",
          "data": {
            "text/plain": [
              "         x0        x1        x2          y\n",
              "0  1.764052  1.117096 -0.650367 -12.117911\n",
              "1  0.400157  1.835437  1.149102   1.203948\n",
              "2  0.978738  1.310029  0.366006  -4.751005\n",
              "3  2.240893 -0.172668  2.205574   8.366291\n",
              "4  1.867558 -0.501878  0.744891  -0.939729"
            ],
            "text/html": [
              "\n",
              "  <div id=\"df-fdbb8ef0-163a-4cca-afb0-1c36ba4c2baa\">\n",
              "    <div class=\"colab-df-container\">\n",
              "      <div>\n",
              "<style scoped>\n",
              "    .dataframe tbody tr th:only-of-type {\n",
              "        vertical-align: middle;\n",
              "    }\n",
              "\n",
              "    .dataframe tbody tr th {\n",
              "        vertical-align: top;\n",
              "    }\n",
              "\n",
              "    .dataframe thead th {\n",
              "        text-align: right;\n",
              "    }\n",
              "</style>\n",
              "<table border=\"1\" class=\"dataframe\">\n",
              "  <thead>\n",
              "    <tr style=\"text-align: right;\">\n",
              "      <th></th>\n",
              "      <th>x0</th>\n",
              "      <th>x1</th>\n",
              "      <th>x2</th>\n",
              "      <th>y</th>\n",
              "    </tr>\n",
              "  </thead>\n",
              "  <tbody>\n",
              "    <tr>\n",
              "      <th>0</th>\n",
              "      <td>1.764052</td>\n",
              "      <td>1.117096</td>\n",
              "      <td>-0.650367</td>\n",
              "      <td>-12.117911</td>\n",
              "    </tr>\n",
              "    <tr>\n",
              "      <th>1</th>\n",
              "      <td>0.400157</td>\n",
              "      <td>1.835437</td>\n",
              "      <td>1.149102</td>\n",
              "      <td>1.203948</td>\n",
              "    </tr>\n",
              "    <tr>\n",
              "      <th>2</th>\n",
              "      <td>0.978738</td>\n",
              "      <td>1.310029</td>\n",
              "      <td>0.366006</td>\n",
              "      <td>-4.751005</td>\n",
              "    </tr>\n",
              "    <tr>\n",
              "      <th>3</th>\n",
              "      <td>2.240893</td>\n",
              "      <td>-0.172668</td>\n",
              "      <td>2.205574</td>\n",
              "      <td>8.366291</td>\n",
              "    </tr>\n",
              "    <tr>\n",
              "      <th>4</th>\n",
              "      <td>1.867558</td>\n",
              "      <td>-0.501878</td>\n",
              "      <td>0.744891</td>\n",
              "      <td>-0.939729</td>\n",
              "    </tr>\n",
              "  </tbody>\n",
              "</table>\n",
              "</div>\n",
              "      <button class=\"colab-df-convert\" onclick=\"convertToInteractive('df-fdbb8ef0-163a-4cca-afb0-1c36ba4c2baa')\"\n",
              "              title=\"Convert this dataframe to an interactive table.\"\n",
              "              style=\"display:none;\">\n",
              "        \n",
              "  <svg xmlns=\"http://www.w3.org/2000/svg\" height=\"24px\"viewBox=\"0 0 24 24\"\n",
              "       width=\"24px\">\n",
              "    <path d=\"M0 0h24v24H0V0z\" fill=\"none\"/>\n",
              "    <path d=\"M18.56 5.44l.94 2.06.94-2.06 2.06-.94-2.06-.94-.94-2.06-.94 2.06-2.06.94zm-11 1L8.5 8.5l.94-2.06 2.06-.94-2.06-.94L8.5 2.5l-.94 2.06-2.06.94zm10 10l.94 2.06.94-2.06 2.06-.94-2.06-.94-.94-2.06-.94 2.06-2.06.94z\"/><path d=\"M17.41 7.96l-1.37-1.37c-.4-.4-.92-.59-1.43-.59-.52 0-1.04.2-1.43.59L10.3 9.45l-7.72 7.72c-.78.78-.78 2.05 0 2.83L4 21.41c.39.39.9.59 1.41.59.51 0 1.02-.2 1.41-.59l7.78-7.78 2.81-2.81c.8-.78.8-2.07 0-2.86zM5.41 20L4 18.59l7.72-7.72 1.47 1.35L5.41 20z\"/>\n",
              "  </svg>\n",
              "      </button>\n",
              "      \n",
              "  <style>\n",
              "    .colab-df-container {\n",
              "      display:flex;\n",
              "      flex-wrap:wrap;\n",
              "      gap: 12px;\n",
              "    }\n",
              "\n",
              "    .colab-df-convert {\n",
              "      background-color: #E8F0FE;\n",
              "      border: none;\n",
              "      border-radius: 50%;\n",
              "      cursor: pointer;\n",
              "      display: none;\n",
              "      fill: #1967D2;\n",
              "      height: 32px;\n",
              "      padding: 0 0 0 0;\n",
              "      width: 32px;\n",
              "    }\n",
              "\n",
              "    .colab-df-convert:hover {\n",
              "      background-color: #E2EBFA;\n",
              "      box-shadow: 0px 1px 2px rgba(60, 64, 67, 0.3), 0px 1px 3px 1px rgba(60, 64, 67, 0.15);\n",
              "      fill: #174EA6;\n",
              "    }\n",
              "\n",
              "    [theme=dark] .colab-df-convert {\n",
              "      background-color: #3B4455;\n",
              "      fill: #D2E3FC;\n",
              "    }\n",
              "\n",
              "    [theme=dark] .colab-df-convert:hover {\n",
              "      background-color: #434B5C;\n",
              "      box-shadow: 0px 1px 3px 1px rgba(0, 0, 0, 0.15);\n",
              "      filter: drop-shadow(0px 1px 2px rgba(0, 0, 0, 0.3));\n",
              "      fill: #FFFFFF;\n",
              "    }\n",
              "  </style>\n",
              "\n",
              "      <script>\n",
              "        const buttonEl =\n",
              "          document.querySelector('#df-fdbb8ef0-163a-4cca-afb0-1c36ba4c2baa button.colab-df-convert');\n",
              "        buttonEl.style.display =\n",
              "          google.colab.kernel.accessAllowed ? 'block' : 'none';\n",
              "\n",
              "        async function convertToInteractive(key) {\n",
              "          const element = document.querySelector('#df-fdbb8ef0-163a-4cca-afb0-1c36ba4c2baa');\n",
              "          const dataTable =\n",
              "            await google.colab.kernel.invokeFunction('convertToInteractive',\n",
              "                                                     [key], {});\n",
              "          if (!dataTable) return;\n",
              "\n",
              "          const docLinkHtml = 'Like what you see? Visit the ' +\n",
              "            '<a target=\"_blank\" href=https://colab.research.google.com/notebooks/data_table.ipynb>data table notebook</a>'\n",
              "            + ' to learn more about interactive tables.';\n",
              "          element.innerHTML = '';\n",
              "          dataTable['output_type'] = 'display_data';\n",
              "          await google.colab.output.renderOutput(dataTable, element);\n",
              "          const docLink = document.createElement('div');\n",
              "          docLink.innerHTML = docLinkHtml;\n",
              "          element.appendChild(docLink);\n",
              "        }\n",
              "      </script>\n",
              "    </div>\n",
              "  </div>\n",
              "  "
            ]
          },
          "metadata": {},
          "execution_count": 2
        }
      ],
      "source": [
        "n = 1000000                                                    # The number of samples\n",
        "mean_real_0, mean_real_1, mean_real_2 = 0, 0.5, -0.3           # Specifying the means of data\n",
        "mu_real_0, mu_real_1, mu_real_2 = 1, 1.2, 1.5                  # Specifying the variances of data\n",
        "coeff_real = [0.5,-1,-3,4,-2,-1,0,1.05,-1.5,2]                 # Specifying the coefficients of the polynomial of degeee 2 whose variables are x0, x1 and x2. The order of the terms in this polynomial is as follows: 1, x0, x1, x2, x0^2, x0x1, x0x2, x1^2, x1x2, x2^2.\n",
        "np.random.seed(0)\n",
        "x0 = np.random.normal(mean_real_0, mu_real_0, n).flatten()     # Generating x0 from a normal distribution with the above mean and variance. \n",
        "x1 = np.random.normal(mean_real_1, mu_real_1, n).flatten()     # Generating x1 from a normal distribution with the above mean and variance.\n",
        "x2 = np.random.normal(mean_real_2, mu_real_2, n).flatten()     # Generating x2 from a normal distribution with the above mean and variance.\n",
        "                  \n",
        "# Generating y from the polynomial with the above coefficients. Indeed, a random error is applied on the coefficients. \n",
        "y = (0.01*np.random.rand(1)[0]+coeff_real[0]) + (0.01*np.random.rand(1)[0]+coeff_real[1])*x0 +(0.01*np.random.rand(1)[0]+coeff_real[2])*x1 + (0.01*np.random.rand(1)[0]+coeff_real[3])*x2 + (0.01*np.random.rand(1)[0]+coeff_real[4])*x0**2 + (0.01*np.random.rand(1)[0]+coeff_real[5])*x0*x1 + (0.01*np.random.rand(1)[0]+coeff_real[6])*x0*x2 + (0.01*np.random.rand(1)[0]+coeff_real[7])*x1**2 + (0.01*np.random.rand(1)[0]+coeff_real[8])*x1*x2 + (0.01*np.random.rand(1)[0]+coeff_real[9])*x2**2\n",
        "\n",
        "# Defining a dataframe from the above data.\n",
        "data = np.zeros((n,4))\n",
        "data[:,0], data[:,1], data[:,2], data[:,3] = [x0,x1,x2, y]\n",
        "df = pd.DataFrame(data)\n",
        "cols = [\"x0\", \"x1\", \"x2\", \"y\"]\n",
        "df.columns = cols\n",
        "df.head()"
      ]
    },
    {
      "cell_type": "code",
      "execution_count": 3,
      "metadata": {
        "colab": {
          "base_uri": "https://localhost:8080/",
          "height": 204
        },
        "id": "5tYidQHK9Og-",
        "outputId": "d8ff4147-c376-4417-f60d-e85caf99e0aa"
      },
      "outputs": [
        {
          "output_type": "execute_result",
          "data": {
            "text/plain": [
              "          0         1         2          y\n",
              "0  1.764052  1.117096 -0.650367 -12.117911\n",
              "1  0.400157  1.835437  1.149102   1.203948\n",
              "2  0.978738  1.310029  0.366006  -4.751005\n",
              "3  2.240893 -0.172668  2.205574   8.366291\n",
              "4  1.867558 -0.501878  0.744891  -0.939729"
            ],
            "text/html": [
              "\n",
              "  <div id=\"df-6c9039f7-3853-48df-933d-6b3c4211da67\">\n",
              "    <div class=\"colab-df-container\">\n",
              "      <div>\n",
              "<style scoped>\n",
              "    .dataframe tbody tr th:only-of-type {\n",
              "        vertical-align: middle;\n",
              "    }\n",
              "\n",
              "    .dataframe tbody tr th {\n",
              "        vertical-align: top;\n",
              "    }\n",
              "\n",
              "    .dataframe thead th {\n",
              "        text-align: right;\n",
              "    }\n",
              "</style>\n",
              "<table border=\"1\" class=\"dataframe\">\n",
              "  <thead>\n",
              "    <tr style=\"text-align: right;\">\n",
              "      <th></th>\n",
              "      <th>0</th>\n",
              "      <th>1</th>\n",
              "      <th>2</th>\n",
              "      <th>y</th>\n",
              "    </tr>\n",
              "  </thead>\n",
              "  <tbody>\n",
              "    <tr>\n",
              "      <th>0</th>\n",
              "      <td>1.764052</td>\n",
              "      <td>1.117096</td>\n",
              "      <td>-0.650367</td>\n",
              "      <td>-12.117911</td>\n",
              "    </tr>\n",
              "    <tr>\n",
              "      <th>1</th>\n",
              "      <td>0.400157</td>\n",
              "      <td>1.835437</td>\n",
              "      <td>1.149102</td>\n",
              "      <td>1.203948</td>\n",
              "    </tr>\n",
              "    <tr>\n",
              "      <th>2</th>\n",
              "      <td>0.978738</td>\n",
              "      <td>1.310029</td>\n",
              "      <td>0.366006</td>\n",
              "      <td>-4.751005</td>\n",
              "    </tr>\n",
              "    <tr>\n",
              "      <th>3</th>\n",
              "      <td>2.240893</td>\n",
              "      <td>-0.172668</td>\n",
              "      <td>2.205574</td>\n",
              "      <td>8.366291</td>\n",
              "    </tr>\n",
              "    <tr>\n",
              "      <th>4</th>\n",
              "      <td>1.867558</td>\n",
              "      <td>-0.501878</td>\n",
              "      <td>0.744891</td>\n",
              "      <td>-0.939729</td>\n",
              "    </tr>\n",
              "  </tbody>\n",
              "</table>\n",
              "</div>\n",
              "      <button class=\"colab-df-convert\" onclick=\"convertToInteractive('df-6c9039f7-3853-48df-933d-6b3c4211da67')\"\n",
              "              title=\"Convert this dataframe to an interactive table.\"\n",
              "              style=\"display:none;\">\n",
              "        \n",
              "  <svg xmlns=\"http://www.w3.org/2000/svg\" height=\"24px\"viewBox=\"0 0 24 24\"\n",
              "       width=\"24px\">\n",
              "    <path d=\"M0 0h24v24H0V0z\" fill=\"none\"/>\n",
              "    <path d=\"M18.56 5.44l.94 2.06.94-2.06 2.06-.94-2.06-.94-.94-2.06-.94 2.06-2.06.94zm-11 1L8.5 8.5l.94-2.06 2.06-.94-2.06-.94L8.5 2.5l-.94 2.06-2.06.94zm10 10l.94 2.06.94-2.06 2.06-.94-2.06-.94-.94-2.06-.94 2.06-2.06.94z\"/><path d=\"M17.41 7.96l-1.37-1.37c-.4-.4-.92-.59-1.43-.59-.52 0-1.04.2-1.43.59L10.3 9.45l-7.72 7.72c-.78.78-.78 2.05 0 2.83L4 21.41c.39.39.9.59 1.41.59.51 0 1.02-.2 1.41-.59l7.78-7.78 2.81-2.81c.8-.78.8-2.07 0-2.86zM5.41 20L4 18.59l7.72-7.72 1.47 1.35L5.41 20z\"/>\n",
              "  </svg>\n",
              "      </button>\n",
              "      \n",
              "  <style>\n",
              "    .colab-df-container {\n",
              "      display:flex;\n",
              "      flex-wrap:wrap;\n",
              "      gap: 12px;\n",
              "    }\n",
              "\n",
              "    .colab-df-convert {\n",
              "      background-color: #E8F0FE;\n",
              "      border: none;\n",
              "      border-radius: 50%;\n",
              "      cursor: pointer;\n",
              "      display: none;\n",
              "      fill: #1967D2;\n",
              "      height: 32px;\n",
              "      padding: 0 0 0 0;\n",
              "      width: 32px;\n",
              "    }\n",
              "\n",
              "    .colab-df-convert:hover {\n",
              "      background-color: #E2EBFA;\n",
              "      box-shadow: 0px 1px 2px rgba(60, 64, 67, 0.3), 0px 1px 3px 1px rgba(60, 64, 67, 0.15);\n",
              "      fill: #174EA6;\n",
              "    }\n",
              "\n",
              "    [theme=dark] .colab-df-convert {\n",
              "      background-color: #3B4455;\n",
              "      fill: #D2E3FC;\n",
              "    }\n",
              "\n",
              "    [theme=dark] .colab-df-convert:hover {\n",
              "      background-color: #434B5C;\n",
              "      box-shadow: 0px 1px 3px 1px rgba(0, 0, 0, 0.15);\n",
              "      filter: drop-shadow(0px 1px 2px rgba(0, 0, 0, 0.3));\n",
              "      fill: #FFFFFF;\n",
              "    }\n",
              "  </style>\n",
              "\n",
              "      <script>\n",
              "        const buttonEl =\n",
              "          document.querySelector('#df-6c9039f7-3853-48df-933d-6b3c4211da67 button.colab-df-convert');\n",
              "        buttonEl.style.display =\n",
              "          google.colab.kernel.accessAllowed ? 'block' : 'none';\n",
              "\n",
              "        async function convertToInteractive(key) {\n",
              "          const element = document.querySelector('#df-6c9039f7-3853-48df-933d-6b3c4211da67');\n",
              "          const dataTable =\n",
              "            await google.colab.kernel.invokeFunction('convertToInteractive',\n",
              "                                                     [key], {});\n",
              "          if (!dataTable) return;\n",
              "\n",
              "          const docLinkHtml = 'Like what you see? Visit the ' +\n",
              "            '<a target=\"_blank\" href=https://colab.research.google.com/notebooks/data_table.ipynb>data table notebook</a>'\n",
              "            + ' to learn more about interactive tables.';\n",
              "          element.innerHTML = '';\n",
              "          dataTable['output_type'] = 'display_data';\n",
              "          await google.colab.output.renderOutput(dataTable, element);\n",
              "          const docLink = document.createElement('div');\n",
              "          docLink.innerHTML = docLinkHtml;\n",
              "          element.appendChild(docLink);\n",
              "        }\n",
              "      </script>\n",
              "    </div>\n",
              "  </div>\n",
              "  "
            ]
          },
          "metadata": {},
          "execution_count": 3
        }
      ],
      "source": [
        "# Renaming the columns x0, x1, x2 to 0,1 and 2, respectively.\n",
        "\n",
        "df = df.rename(columns={'x0':0, 'x1':1, 'x2':2})\n",
        "df.head()"
      ]
    },
    {
      "cell_type": "code",
      "execution_count": 4,
      "metadata": {
        "id": "kWGZvfCx9QXT"
      },
      "outputs": [],
      "source": [
        "# Training a polynomial regression for data.\n",
        "\n",
        "X = np.array(df[[0,1,2]]).reshape(-1, 3)\n",
        "Y = np.array(df['y']).reshape(-1, 1)\n",
        "X_train, X_test, Y_train, Y_test = train_test_split(X, Y, test_size = 0.25)\n",
        "poly_2 = PolynomialFeatures(degree = 2)\n",
        "X_train_poly_2 = poly_2.fit_transform(X_train)\n",
        "poly_2.fit(X_train_poly_2, Y_train)\n",
        "lin2 = LinearRegression()\n",
        "lin2.fit(X_train_poly_2, Y_train)\n",
        "coeff = lin2.coef_[0]"
      ]
    },
    {
      "cell_type": "code",
      "execution_count": 5,
      "metadata": {
        "colab": {
          "base_uri": "https://localhost:8080/"
        },
        "id": "EkynjM4D9evB",
        "outputId": "540876f2-5035-47a9-8334-aab468ed7112"
      },
      "outputs": [
        {
          "output_type": "stream",
          "name": "stdout",
          "text": [
            "1.0\n",
            "9.785666667147978e-27\n"
          ]
        }
      ],
      "source": [
        "# Evaluating the model using \"r2_score\" and \"mean_squared_error\"\n",
        "\n",
        "expected_Y  = Y_test\n",
        "predicted_poly_2_Y = lin2.predict(poly_2.fit_transform(X_test))\n",
        "print(metrics.r2_score(expected_Y, predicted_poly_2_Y))\n",
        "print(mean_squared_error(expected_Y, predicted_poly_2_Y))"
      ]
    },
    {
      "cell_type": "code",
      "execution_count": 6,
      "metadata": {
        "colab": {
          "base_uri": "https://localhost:8080/"
        },
        "id": "jpmOAc29h2iZ",
        "outputId": "cb2850bc-1fdc-47ef-8303-c6b1fc904312"
      },
      "outputs": [
        {
          "output_type": "execute_result",
          "data": {
            "text/plain": [
              "array([[0, 0, 0],\n",
              "       [1, 0, 0],\n",
              "       [0, 1, 0],\n",
              "       [0, 0, 1],\n",
              "       [2, 0, 0],\n",
              "       [1, 1, 0],\n",
              "       [1, 0, 1],\n",
              "       [0, 2, 0],\n",
              "       [0, 1, 1],\n",
              "       [0, 0, 2]])"
            ]
          },
          "metadata": {},
          "execution_count": 6
        }
      ],
      "source": [
        "# The order of terms in the above polynomial model (i.e., [a,b,c] means (x0^a)(x1^b)(x2^c))\n",
        "\n",
        "poly_2.powers_"
      ]
    },
    {
      "cell_type": "code",
      "execution_count": 7,
      "metadata": {
        "id": "MLHue3gT96dZ"
      },
      "outputs": [],
      "source": [
        "# Calculating the means and the standard deviations of each column of the data.\n",
        "\n",
        "df_ar = df.to_numpy()\n",
        "mean = np.mean(df_ar.transpose()[0]), np.mean(df_ar.transpose()[1]) , np.mean(df_ar.transpose()[2])\n",
        "sd = np.sqrt(float(np.cov(df_ar.transpose()[0]))), np.sqrt(float(np.cov(df_ar.transpose()[1]))), np.sqrt(float(np.cov(df_ar.transpose()[2])))\n",
        "\n",
        "\n",
        "\n",
        "# Defining the density functions of each column of the data. Indeed, density(i, ) is the density function associated to the column i.\n",
        "\n",
        "def density(i,x):\n",
        "  prob_density = (1/(np.sqrt(np.pi*2)*sd[i])) * np.exp(-0.5*((x-mean[i])/sd[i])**2)\n",
        "  return prob_density"
      ]
    },
    {
      "cell_type": "code",
      "execution_count": 9,
      "metadata": {
        "colab": {
          "base_uri": "https://localhost:8080/"
        },
        "id": "MDIYYDOCXYdE",
        "outputId": "ab69e87a-4f5b-4b1c-f833-ad1c8fc8a0bd"
      },
      "outputs": [
        {
          "output_type": "stream",
          "name": "stdout",
          "text": [
            "The PEACE's of x0,x1 and x2 on y are as follows, respectively:\n",
            "3.080983185108964,2.5478350721580414,3.037782412700528\n",
            "The runtime is  161.3133990764618 seconds.\n"
          ]
        }
      ],
      "source": [
        "# Calculating the PEACE's of x0, x1 and x2 on y.\n",
        "tic = time.time()\n",
        "inf = 8\n",
        "integrand_0 = lambda x0,x1,x2: density(0,x0)*density(0,x0)*density(1,x1)*density(2,x2)*abs(coeff[1] + 2*coeff[4]*x0 + coeff[5]*x1 + coeff[6]*x2)\n",
        "integrand_1 = lambda x0,x1,x2: density(0,x0)*density(1,x1)*density(1,x1)*density(2,x2)*abs(coeff[2] + coeff[5]*x0 + 2*coeff[7]*x1 + coeff[8]*x2)\n",
        "integrand_2 = lambda x0,x1,x2: density(0,x0)*density(1,x1)*density(2,x2)*density(2,x2)*abs(coeff[3] + coeff[6]*x0 + coeff[8]*x1 + 2*coeff[9]*x2)\n",
        "x01,x02 = -inf, inf\n",
        "x11,x12 = lambda x0: -inf, lambda x0: inf\n",
        "x21,x22 = lambda x0,x1: -inf, lambda x0,x1: inf\n",
        "integral_0 = tplquad(integrand_0, x01, x02, x11, x12, x21, x22 )[0]\n",
        "integral_1 = tplquad(integrand_1, x01, x02, x11, x12, x21, x22 )[0]\n",
        "integral_2 = tplquad(integrand_2, x01, x02, x11, x12, x21, x22 )[0]\n",
        "print(\"The PEACE's of x0,x1 and x2 on y are as follows, respectively:\")\n",
        "print(4*integral_0, 4*integral_1, 4*integral_2, sep = ',')\n",
        "toc = time.time()\n",
        "print(\"The runtime is \", toc - tic, \"seconds.\")"
      ]
    },
    {
      "cell_type": "code",
      "execution_count": 10,
      "metadata": {
        "colab": {
          "base_uri": "https://localhost:8080/"
        },
        "id": "XoQ-lsKcwVSB",
        "outputId": "2bb02c55-9f34-4368-cc0d-1533dcfa38e5"
      },
      "outputs": [
        {
          "output_type": "stream",
          "name": "stdout",
          "text": [
            "Looking in indexes: https://pypi.org/simple, https://us-python.pkg.dev/colab-wheels/public/simple/\n",
            "Collecting vegas\n",
            "  Downloading vegas-5.1.1.tar.gz (1.3 MB)\n",
            "\u001b[K     |████████████████████████████████| 1.3 MB 27.1 MB/s \n",
            "\u001b[?25hRequirement already satisfied: numpy>=1.7 in /usr/local/lib/python3.7/dist-packages (from vegas) (1.21.6)\n",
            "Collecting gvar>=8.0\n",
            "  Downloading gvar-11.10.1.tar.gz (1.9 MB)\n",
            "\u001b[K     |████████████████████████████████| 1.9 MB 45.6 MB/s \n",
            "\u001b[?25hRequirement already satisfied: scipy in /usr/local/lib/python3.7/dist-packages (from gvar>=8.0->vegas) (1.7.3)\n",
            "Building wheels for collected packages: vegas, gvar\n",
            "  Building wheel for vegas (setup.py) ... \u001b[?25l\u001b[?25hdone\n",
            "  Created wheel for vegas: filename=vegas-5.1.1-cp37-cp37m-linux_x86_64.whl size=1501838 sha256=8604249864104979a3b1d54d23a7e203acb4eac496ed9b92428cfa0f518eed25\n",
            "  Stored in directory: /root/.cache/pip/wheels/5c/e4/05/3bcde90bc37d2c2b77a85b376b36926daee5516139fa9cd610\n",
            "  Building wheel for gvar (setup.py) ... \u001b[?25l\u001b[?25hdone\n",
            "  Created wheel for gvar: filename=gvar-11.10.1-cp37-cp37m-linux_x86_64.whl size=4090136 sha256=1d3b1ce7db6e5a5fa0ee4432c1e14fa39fbb4c10b4cac1f3a69c479e070cdb87\n",
            "  Stored in directory: /root/.cache/pip/wheels/ac/bd/b5/2b732c368e56f2d6151ff6a2fb3f3b118725516853fedf6435\n",
            "Successfully built vegas gvar\n",
            "Installing collected packages: gvar, vegas\n",
            "Successfully installed gvar-11.10.1 vegas-5.1.1\n"
          ]
        }
      ],
      "source": [
        "pip install vegas"
      ]
    },
    {
      "cell_type": "code",
      "execution_count": 11,
      "metadata": {
        "id": "qPa6PHfjxTr0"
      },
      "outputs": [],
      "source": [
        "import vegas"
      ]
    },
    {
      "cell_type": "code",
      "execution_count": 15,
      "metadata": {
        "colab": {
          "base_uri": "https://localhost:8080/"
        },
        "id": "dvS2A1j_x5Zl",
        "outputId": "2916b1c5-7fab-46db-cca1-4e41771ed140"
      },
      "outputs": [
        {
          "output_type": "stream",
          "name": "stdout",
          "text": [
            "The PEACE's of x0,x1 and x2 on y are as follows, respectively:\n",
            "3.08150(76)\n",
            "2.54692(65)\n",
            "3.03795(73)\n",
            "\n",
            "\n",
            "The runtime is  28.51358652114868 seconds.\n"
          ]
        }
      ],
      "source": [
        "# Calculating the above PEACE's using Vegas\n",
        "\n",
        "tic = time.time()\n",
        "def integrand_0(X):\n",
        "  return density(0,X[0])*density(0,X[0])*density(1,X[1])*density(2,X[2])*abs(coeff[1] + 2*coeff[4]*X[0] + coeff[5]*X[1] + coeff[6]*X[2])\n",
        "def integrand_1(X):\n",
        "  return density(0,X[0])*density(1,X[1])*density(1,X[1])*density(2,X[2])*abs(coeff[2] + coeff[5]*X[0] + 2*coeff[7]*X[1] + coeff[8]*X[2])\n",
        "def integrand_2(X):\n",
        "  return density(0,X[0])*density(1,X[1])*density(2,X[2])*density(2,X[2])*abs(coeff[3] + coeff[6]*X[0] + coeff[8]*X[1] + 2*coeff[9]*X[2])\n",
        "  \n",
        "domain = vegas.Integrator([[-inf, inf], [-inf, inf], [-inf, inf]])\n",
        "\n",
        "integ_0, integ_1, integ_2 = domain(integrand_0, nitn=50, neval=10000), domain(integrand_1, nitn=50, neval=10000), domain(integrand_2, nitn=50, neval=10000)\n",
        "print(\"The PEACE's of x0,x1 and x2 on y are as follows, respectively:\")\n",
        "print(4*integ_0, 4*integ_1, 4*integ_2,'\\n', sep = '\\n')\n",
        "toc = time.time()\n",
        "print(\"The runtime is \", toc - tic, \"seconds.\")"
      ]
    },
    {
      "cell_type": "code",
      "execution_count": 25,
      "metadata": {
        "colab": {
          "base_uri": "https://localhost:8080/"
        },
        "id": "z2jpjaetDbnv",
        "outputId": "6570f705-e8ac-4a68-bb84-47dd3aec6f26"
      },
      "outputs": [
        {
          "output_type": "stream",
          "name": "stdout",
          "text": [
            "The positive PEACE's of x0,x1 and x2 on y are as follows, respectively:\n",
            "0.69568(15),0.56990(17),2.28813(51)\n",
            "The runtime is  25.447641611099243 seconds.\n"
          ]
        }
      ],
      "source": [
        "# Calculating the positive PEACE's using Vegas\n",
        "\n",
        "tic = time.time()\n",
        "def integrand_0(X):\n",
        "  return density(0,X[0])*density(0,X[0])*density(1,X[1])*density(2,X[2])*max(coeff[1] + 2*coeff[4]*X[0] + coeff[5]*X[1] + coeff[6]*X[2], 0)\n",
        "def integrand_1(X):\n",
        "  return density(0,X[0])*density(1,X[1])*density(1,X[1])*density(2,X[2])*max(coeff[2] + coeff[5]*X[0] + 2*coeff[7]*X[1] + coeff[8]*X[2], 0)\n",
        "def integrand_2(X):\n",
        "  return density(0,X[0])*density(1,X[1])*density(2,X[2])*density(2,X[2])*max(coeff[3] + coeff[6]*X[0] + coeff[8]*X[1] + 2*coeff[9]*X[2], 0)\n",
        "  \n",
        "domain = vegas.Integrator([[-inf, inf], [-inf, inf], [-inf, inf]])\n",
        "\n",
        "integ_0, integ_1, integ_2 = domain(integrand_0, nitn=50, neval=10000), domain(integrand_1, nitn=50, neval=10000), domain(integrand_2, nitn=50, neval=10000)\n",
        "print(\"The positive PEACE's of x0,x1 and x2 on y are as follows, respectively:\")\n",
        "print(4*integ_0, 4*integ_1, 4*integ_2, sep = ',')\n",
        "toc = time.time()\n",
        "print(\"The runtime is \", toc - tic, \"seconds.\")"
      ]
    },
    {
      "cell_type": "code",
      "execution_count": 26,
      "metadata": {
        "colab": {
          "base_uri": "https://localhost:8080/"
        },
        "id": "Yw75cKT2D4Dd",
        "outputId": "ac5411a0-38ee-4e26-d4b6-bb0b060bc51e"
      },
      "outputs": [
        {
          "output_type": "stream",
          "name": "stdout",
          "text": [
            "The negative PEACE's of x0,x1 and x2 on y are as follows, respectively:\n",
            "2.38353(48),1.97771(43),0.74805(18)\n",
            "The runtime is  25.23659062385559 seconds.\n"
          ]
        }
      ],
      "source": [
        "# Calculating the negative PEACE's using Vegas\n",
        "\n",
        "tic = time.time()\n",
        "def integrand_0(X):\n",
        "  return density(0,X[0])*density(0,X[0])*density(1,X[1])*density(2,X[2])*max(-(coeff[1] + 2*coeff[4]*X[0] + coeff[5]*X[1] + coeff[6]*X[2]), 0)\n",
        "def integrand_1(X):\n",
        "  return density(0,X[0])*density(1,X[1])*density(1,X[1])*density(2,X[2])*max(-(coeff[2] + coeff[5]*X[0] + 2*coeff[7]*X[1] + coeff[8]*X[2]), 0)\n",
        "def integrand_2(X):\n",
        "  return density(0,X[0])*density(1,X[1])*density(2,X[2])*density(2,X[2])*max(-(coeff[3] + coeff[6]*X[0] + coeff[8]*X[1] + 2*coeff[9]*X[2]), 0)\n",
        "  \n",
        "domain = vegas.Integrator([[-inf, inf], [-inf, inf], [-inf, inf]])\n",
        "\n",
        "integ_0, integ_1, integ_2 = domain(integrand_0, nitn=50, neval=10000), domain(integrand_1, nitn=50, neval=10000), domain(integrand_2, nitn=50, neval=10000)\n",
        "print(\"The negative PEACE's of x0,x1 and x2 on y are as follows, respectively:\")\n",
        "print(4*integ_0, 4*integ_1, 4*integ_2, sep = ',')\n",
        "toc = time.time()\n",
        "print(\"The runtime is \", toc - tic, \"seconds.\")"
      ]
    },
    {
      "cell_type": "code",
      "execution_count": 27,
      "metadata": {
        "id": "4EsNY9tzwhV8"
      },
      "outputs": [],
      "source": [
        "# Defining a function which predicts y for a given (x0,x1,x2) using the above polynomial model.\n",
        "\n",
        "def g(x0,x1,x2):\n",
        "  return lin2.predict(poly_2.fit_transform(np.array([[x0,x1,x2]])))[0][0]"
      ]
    },
    {
      "cell_type": "code",
      "execution_count": 32,
      "metadata": {
        "colab": {
          "base_uri": "https://localhost:8080/"
        },
        "id": "JnE8sAU1tgOb",
        "outputId": "e72d14cb-725b-4ff4-9c87-3dcfb17c6e52"
      },
      "outputs": [
        {
          "output_type": "execute_result",
          "data": {
            "text/plain": [
              "(0.0, 0.0, 0.0, 0.0, -1.1317396925004812, 0.0)"
            ]
          },
          "metadata": {},
          "execution_count": 32
        }
      ],
      "source": [
        "# Checking if PACE = PEACE\n",
        "\n",
        "def opt_0_1(x):\n",
        "  def f(z):\n",
        "    return abs(coeff[1] + 2*coeff[4]*z + coeff[5]*x[0] + coeff[6]*x[1])*(density(0,z)**2)\n",
        "  func = lambda a: (g(a[1],x[0],x[1])- g(a[0],x[0],x[1]))*density(0,a[0])*density(0,a[1])- quad(f,a[0],a[1])[0] \n",
        "  cons = ({'type': 'ineq', 'fun': lambda a:  g(a[1],x[0],x[1])- g(a[0],x[0],x[1])}, {'type': 'ineq', 'fun': lambda a:  a[1]- a[0]})\n",
        "  a0 = ([1,1])\n",
        "  bounds = [(None, None), (None, None)]\n",
        "  return minimize(func, a0, bounds=bounds,constraints=cons).fun\n",
        "\n",
        "def opt_0_2(x):\n",
        "  def f(z):\n",
        "    return abs(coeff[1] + 2*coeff[4]*z + coeff[5]*x[0] + coeff[6]*x[1])*(density(0,z)**2)\n",
        "  func = lambda a: (g(a[0],x[0],x[1])- g(a[1],x[0],x[1]))*density(0,a[0])*density(0,a[1])- quad(f,a[0],a[1])[0] \n",
        "  cons = ({'type': 'ineq', 'fun': lambda a:  g(a[0],x[0],x[1])- g(a[1],x[0],x[1])}, {'type': 'ineq', 'fun': lambda a:  a[1]- a[0]})\n",
        "  a0 = ([1,1])\n",
        "  bounds = [(None, None), (None, None)]\n",
        "  return minimize(func, a0, bounds=bounds,constraints=cons).fun\n",
        "\n",
        "def opt_1_1(x):\n",
        "  def f(z):\n",
        "    return abs(coeff[2] + coeff[5]*x[0] + 2*coeff[7]*z + coeff[8]*x[1])*(density(1,z)**2)\n",
        "  func = lambda a: (g(x[0],a[1],x[1])- g(x[0],a[0],x[1]))*density(1,a[0])*density(1,a[1])- quad(f,a[0],a[1])[0] \n",
        "  cons = ({'type': 'ineq', 'fun': lambda a:  g(x[0],a[1],x[1])- g(x[0],a[0],x[1])}, {'type': 'ineq', 'fun': lambda a:  a[1]- a[0]})\n",
        "  a0 = ([1,1])\n",
        "  bounds = [(None, None), (None, None)]\n",
        "  return minimize(func, a0, bounds=bounds,constraints=cons).fun\n",
        "\n",
        "def opt_1_2(x):\n",
        "  def f(z):\n",
        "    return abs(coeff[2] + coeff[5]*x[0] + 2*coeff[7]*z + coeff[8]*x[1])*(density(1,z)**2)\n",
        "  func = lambda a: (g(x[0],a[0],x[1])- g(x[0],a[1],x[1]))*density(1,a[0])*density(1,a[1])- quad(f,a[0],a[1])[0] \n",
        "  cons = ({'type': 'ineq', 'fun': lambda a:  g(x[0],a[0],x[1])- g(x[0],a[1],x[1])}, {'type': 'ineq', 'fun': lambda a:  a[1]- a[0]})\n",
        "  a0 = ([1,1])\n",
        "  bounds = [(None, None), (None, None)]\n",
        "  return minimize(func, a0, bounds=bounds,constraints=cons).fun\n",
        "\n",
        "def opt_2_1(x):\n",
        "  def f(z):\n",
        "    return abs(coeff[3] + coeff[6]*x[0] + coeff[8]*x[1] + 2*coeff[9]*z)*(density(1,z)**2)\n",
        "  func = lambda a: (g(x[0],x[1],a[1])- g(x[0],x[1],a[0]))*density(2,a[0])*density(2,a[1])- quad(f,a[0],a[1])[0] \n",
        "  cons = ({'type': 'ineq', 'fun': lambda a:  g(x[0],x[1],a[1])- g(x[0],x[1],a[0])}, {'type': 'ineq', 'fun': lambda a:  a[1]- a[0]})\n",
        "  a0 = ([1,1])\n",
        "  bounds = [(None, None), (None, None)]\n",
        "  return minimize(func, a0, bounds=bounds,constraints=cons).fun\n",
        "\n",
        "def opt_2_2(x):\n",
        "  def f(z):\n",
        "    return abs(coeff[3] + coeff[6]*x[0] + coeff[8]*x[1] + 2*coeff[9]*z)*(density(1,z)**2)\n",
        "  func = lambda a: (g(x[0],x[1],a[0])- g(x[0],x[1],a[1]))*density(2,a[0])*density(2,a[1])- quad(f,a[0],a[1])[0]  \n",
        "  cons = ({'type': 'ineq', 'fun': lambda a:  g(x[0],x[1],a[0])- g(x[0],x[1],a[1])}, {'type': 'ineq', 'fun': lambda a:  a[1]- a[0]})\n",
        "  a0 = ([1,1])\n",
        "  bounds = [(None, None), (None, None)]\n",
        "  return minimize(func, a0, bounds=bounds,constraints=cons).fun\n",
        "\n",
        "func_0_1 = lambda x: opt_0_1(x)\n",
        "func_0_2 = lambda x: opt_0_2(x)\n",
        "func_1_1 = lambda x: opt_1_1(x)\n",
        "func_1_2 = lambda x: opt_1_2(x)\n",
        "func_2_1 = lambda x: opt_2_1(x)\n",
        "func_2_2 = lambda x: opt_2_2(x)\n",
        "\n",
        "a0 = ([1,1])\n",
        "bounds = [(None, None), (None, None)]\n",
        "minimize(func_0_1, a0, bounds=bounds).fun, minimize(func_0_2, a0, bounds=bounds).fun, minimize(func_1_1, a0, bounds=bounds).fun, minimize(func_1_2, a0, bounds=bounds).fun, minimize(func_2_1, a0, bounds=bounds).fun, minimize(func_2_2, a0, bounds=bounds).fun"
      ]
    }
  ],
  "metadata": {
    "colab": {
      "collapsed_sections": [],
      "provenance": [],
      "authorship_tag": "ABX9TyN3MdAkNqKoQ0B1pMg3wBSm",
      "include_colab_link": true
    },
    "kernelspec": {
      "display_name": "Python 3",
      "name": "python3"
    },
    "language_info": {
      "name": "python"
    }
  },
  "nbformat": 4,
  "nbformat_minor": 0
}